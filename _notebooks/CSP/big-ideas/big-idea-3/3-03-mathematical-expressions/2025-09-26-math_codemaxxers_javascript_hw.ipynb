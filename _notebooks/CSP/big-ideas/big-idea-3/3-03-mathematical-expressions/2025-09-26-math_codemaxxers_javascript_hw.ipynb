{
 "cells": [
  {
   "cell_type": "raw",
   "id": "6290bcd2",
   "metadata": {
    "vscode": {
     "languageId": "raw"
    }
   },
   "source": [
    "---\n",
    "title: \"Mathematical Operations in Javascript and Python - Hacks\"\n",
    "description: \"Apply your skills of math, logic, and coding.\"\n",
    "layout: post\n",
    "permalink: /javascript/mathematical-expressions/codemaxxers-hw\n",
    "---"
   ]
  },
  {
   "cell_type": "markdown",
   "id": "d98b569e",
   "metadata": {},
   "source": [
    "# Basic Algebraic Math hacks\n",
    "\n",
    "## Q1 (Exponents):\n",
    "### A cube has a side length of 6 units. What is its volume?"
   ]
  },
  {
   "cell_type": "code",
   "execution_count": 7,
   "id": "235ceb13",
   "metadata": {
    "vscode": {
     "languageId": "javascript"
    }
   },
   "outputs": [
    {
     "data": {
      "application/javascript": "let side = 4;\n\nlet volume1 = side ** 3;         \n\nconsole.log(\"Volume =\", volume1);\n",
      "text/plain": [
       "<IPython.core.display.Javascript object>"
      ]
     },
     "metadata": {},
     "output_type": "display_data"
    }
   ],
   "source": [
    "%%js\n",
    "let side = 4;\n",
    "\n",
    "let volume1 = side ** 3;         \n",
    "\n",
    "console.log(\"Volume =\", volume1);"
   ]
  },
  {
   "cell_type": "markdown",
   "id": "3fb1dd4d",
   "metadata": {},
   "source": [
    "## Q2 (PEMDAS):\n",
    "### Evaluate the expression: \n",
    "\n",
    "(7+14)*5/12 + 2"
   ]
  },
  {
   "cell_type": "code",
   "execution_count": 8,
   "id": "49d712a3",
   "metadata": {
    "vscode": {
     "languageId": "javascript"
    }
   },
   "outputs": [
    {
     "data": {
      "application/javascript": "let a = 12;\nlet b = 8;\nlet c = 3;\n\nlet result = (a + b) / 2 + (c ** 2);\n\nconsole.log(\"Result =\", result);\n",
      "text/plain": [
       "<IPython.core.display.Javascript object>"
      ]
     },
     "metadata": {},
     "output_type": "display_data"
    }
   ],
   "source": [
    "%%js\n",
    "let a = 12;\n",
    "let b = 8;\n",
    "let c = 3;\n",
    "\n",
    "let result = (a + b) / 2 + (c ** 2);\n",
    "\n",
    "console.log(\"Result =\", result);"
   ]
  },
  {
   "cell_type": "markdown",
   "id": "fcaa4762",
   "metadata": {},
   "source": [
    "## Q3 (Algorithm): \n",
    "\n",
    "Write JavaScript  code where you define variables and run commands that find the values of operations you apply onto them"
   ]
  },
  {
   "cell_type": "code",
   "execution_count": 10,
   "id": "0a2081a9",
   "metadata": {
    "vscode": {
     "languageId": "javascript"
    }
   },
   "outputs": [
    {
     "data": {
      "application/javascript": "// Define variables\nlet a = 12;\nlet b = 8;\nlet c = 3;\n\n// Apply operations\nlet sum_ab = a + b;\nlet average = (a + b) / 2;\nlet square_c = c ** 2;\nlet result = average + square_c;\n\n// Print results\nconsole.log(\"a + b =\", sum_ab);\nconsole.log(\"(a + b) / 2 =\", average);\nconsole.log(\"c squared =\", square_c);\nconsole.log(\"Final result =\", result);\n",
      "text/plain": [
       "<IPython.core.display.Javascript object>"
      ]
     },
     "metadata": {},
     "output_type": "display_data"
    }
   ],
   "source": [
    "%%js\n",
    "// Define variables\n",
    "let a = 12;\n",
    "let b = 8;\n",
    "let c = 3;\n",
    "\n",
    "// Apply operations\n",
    "let sum_ab = a + b;\n",
    "let average = (a + b) / 2;\n",
    "let square_c = c ** 2;\n",
    "let result = average + square_c;\n",
    "\n",
    "// Print results\n",
    "console.log(\"a + b =\", sum_ab);\n",
    "console.log(\"(a + b) / 2 =\", average);\n",
    "console.log(\"c squared =\", square_c);\n",
    "console.log(\"Final result =\", result);\n"
   ]
  },
  {
   "cell_type": "markdown",
   "id": "7927eeac",
   "metadata": {},
   "source": [
    "<img src=\"/images/3_3diagram.png\" alt=\"Diagram showing mathematical operations\" style=\"max-width:300px; margin:10px;\">\n"
   ]
  }
 ],
 "metadata": {
  "kernelspec": {
   "display_name": "venv",
   "language": "python",
   "name": "python3"
  },
  "language_info": {
   "codemirror_mode": {
    "name": "ipython",
    "version": 3
   },
   "file_extension": ".py",
   "mimetype": "text/x-python",
   "name": "python",
   "nbconvert_exporter": "python",
   "pygments_lexer": "ipython3",
   "version": "3.12.3"
  }
 },
 "nbformat": 4,
 "nbformat_minor": 5
}

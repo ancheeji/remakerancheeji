{
 "cells": [
  {
   "cell_type": "raw",
   "id": "6d62ad69",
   "metadata": {
    "vscode": {
     "languageId": "raw"
    }
   },
   "source": [
    "---\n",
    "layout: post\n",
    "title: Variables & Assignments\n",
    "description: This page will provide homework for the variables and assigmnets lesson.\n",
    "permalink: /python/variables/zombies/hw\n",
    "breadcrumb: True\n",
    "Author: Ethan Patel, Tanay Paranjpe, Neil Manjrekar\n",
    "---"
   ]
  },
  {
   "cell_type": "markdown",
   "id": "2b9da6aa",
   "metadata": {},
   "source": [
    "## Variables & Assignment Homework\n",
    "---\n",
    "Description:\n",
    "- In this homework hack, you will practice creating and using variables. You’ll define variables to store your name and age, reassign values, and answer interactive questions to test your understanding. This activity will help you master the basics of variables and how they work in programming."
   ]
  },
  {
   "cell_type": "markdown",
   "id": "352d458b",
   "metadata": {
    "vscode": {
     "languageId": "plaintext"
    }
   },
   "source": [
    "# 🏠 Variables Quest Homework\n",
    "\n",
    "**Objective:** Practice creating, manipulating, and combining strings in Python.\n",
    "\n",
    "---\n",
    "\n",
    "## Instructions\n",
    "\n",
    "Complete each challenge by **filling in the missing code**. Use the examples as a guide, but make sure to write your own values or logic.\n"
   ]
  },
  {
   "cell_type": "markdown",
   "id": "39715e07",
   "metadata": {
    "vscode": {
     "languageId": "raw"
    }
   },
   "source": [
    "## Challenge 1: Creating a Life Profile with Variables"
   ]
  },
  {
   "cell_type": "code",
   "execution_count": 1,
   "id": "35609373",
   "metadata": {},
   "outputs": [
    {
     "name": "stdout",
     "output_type": "stream",
     "text": [
      "Name: Michelle\n",
      "Age: 15\n",
      "City: San Diego\n",
      "Favorite color: Black\n",
      "Favorite food: Sushi\n",
      "Favorite movie: The Texas Chainsaw Massacre\n",
      "Favorite song: Lonely Star\n",
      "Student? True\n",
      "Has pet? False\n",
      "Online? True\n",
      "Likes music? True\n"
     ]
    }
   ],
   "source": [
    "# Part 1\n",
    "## Personal info\n",
    "my_name = \"Michelle\"         # Fill in your name\n",
    "my_age = 15                  # Fill in your age\n",
    "my_city = \"Irvine\"           # Fill in the city where you live\n",
    "\n",
    "# Part 2\n",
    "## Preferences\n",
    "favorite_color = \"Black\"      # Your favorite color\n",
    "favorite_food = \"Pizza\"      # Your favorite food\n",
    "favorite_movie = \"The Texas Chainsaw Massacre\" # Your favorite movie\n",
    "favorite_song = \"Lonely Star\" # Your favorite song\n",
    "\n",
    "# Part 3\n",
    "# Reassign some variables\n",
    "favorite_food = \"Sushi\"\n",
    "my_city = \"San Diego\"\n",
    "has_pet = False\n",
    "\n",
    "# Part 4 (I noticed it skipped in your version, so adding it)\n",
    "is_student = True\n",
    "is_online = True\n",
    "likes_music = True\n",
    "\n",
    "# Part 5: Print Your Life Profile\n",
    "print(\"Name:\", my_name)\n",
    "print(\"Age:\", my_age)\n",
    "print(\"City:\", my_city)\n",
    "print(\"Favorite color:\", favorite_color)\n",
    "print(\"Favorite food:\", favorite_food)\n",
    "print(\"Favorite movie:\", favorite_movie)\n",
    "print(\"Favorite song:\", favorite_song)\n",
    "print(\"Student?\", is_student)\n",
    "print(\"Has pet?\", has_pet)\n",
    "print(\"Online?\", is_online)\n",
    "print(\"Likes music?\", likes_music)\n",
    "\n"
   ]
  },
  {
   "cell_type": "markdown",
   "id": "748cd3e2",
   "metadata": {},
   "source": [
    "# Task 2 "
   ]
  },
  {
   "cell_type": "markdown",
   "id": "a775e8cf",
   "metadata": {
    "vscode": {
     "languageId": "html"
    }
   },
   "source": [
    "## Creative Challenge \n",
    "\n",
    "Your task: Create a “story” or “profile” using **ONLY variables and assignments**.  \n",
    "\n",
    "\n",
    "### Instructions:\n",
    "\n",
    "1. **Create at least 8 variables** to describe a character or yourself.  \n",
    "   Examples:  \n",
    "   `name`, `age`, `favorite_food`, `hobby`, `number_of_pets`, `mood`, `favorite_color`, `dream_job`\n",
    "\n",
    "2. **Assign initial values** to all variables.\n",
    "\n",
    "3. **Reassign at least 4 of the variables** to new values to simulate changes over time or “events” in the story.\n",
    "\n",
    "4. Use **print statements** to write a story or profile that is **at least 5 sentences long**.  \n",
    "   Each sentence should include at least one variable.  \n",
    "   Example:  \n",
    "   > \"Tanay ('age' 17) loves pizza and plays tennis ('hobby') every weekend. Today, Tanay is happy because he ate his ('favoirite_food').\"\n",
    "\n",
    "5. Optional: Add **extra variables** to make your story longer and more creative.  \n",
    "   You can also create “day 2”, “day 3”, etc., by reassigning variables and printing new sentences.\n",
    "\n",
    "### Goal:\n",
    "\n",
    "- Show creativity while practicing:  \n",
    "  - Variable creation  \n",
    "  - Variable reassignment  \n",
    "  - Using variables in print statements\n",
    "  - Experiment with assigment and reassigment to update variables \n"
   ]
  },
  {
   "cell_type": "markdown",
   "id": "d75a4417",
   "metadata": {},
   "source": []
  },
  {
   "cell_type": "code",
   "execution_count": 4,
   "id": "0761ac1f",
   "metadata": {},
   "outputs": [
    {
     "name": "stdout",
     "output_type": "stream",
     "text": [
      "John is 16 years old and loves pizza.\n",
      "Every weekend, John enjoys surfing with friends.\n",
      "John has 2 pets and feels excited today.\n",
      "The favorite color of John is green.\n",
      "John dreams of becoming a game developer someday.\n",
      "\n",
      "The next day, things changed...\n",
      "John decided to try something new and now loves eating sushi.\n",
      "Instead of surfing , John spends more time painting now.\n",
      "Surprisingly, John now has 3 pets!\n",
      "Today, John is feeling tired but still thinks about becoming an artist.\n"
     ]
    }
   ],
   "source": [
    "# Character Profile - Day 1\n",
    "name = \"John\"\n",
    "age = 16\n",
    "favorite_food = \"pizza\"\n",
    "hobby = \"surfing\"\n",
    "number_of_pets = 2\n",
    "mood = \"excited\"\n",
    "favorite_color = \"green\"\n",
    "dream_job = \"game developer\"\n",
    "\n",
    "# Story - Day 1\n",
    "print(name, \"is\", age, \"years old and loves\", favorite_food + \".\")\n",
    "print(\"Every weekend,\", name, \"enjoys\", hobby, \"with friends.\")\n",
    "print(name, \"has\", number_of_pets, \"pets and feels\", mood, \"today.\")\n",
    "print(\"The favorite color of\", name, \"is\", favorite_color + \".\")\n",
    "print(name, \"dreams of becoming a\", dream_job, \"someday.\")\n",
    "\n",
    "# Reassign variables to show changes - Day 2\n",
    "favorite_food = \"sushi\"\n",
    "hobby = \"surfing\"\n",
    "number_of_pets = 3\n",
    "mood = \"tired\"\n",
    "dream_job = \"artist\"\n",
    "\n",
    "# Story - Day 2\n",
    "print(\"\\nThe next day, things changed...\")\n",
    "print(name, \"decided to try something new and now loves eating\", favorite_food + \".\")\n",
    "print(\"Instead of\", hobby, \",\", name, \"spends more time painting now.\")\n",
    "print(\"Surprisingly,\", name, \"now has\", number_of_pets, \"pets!\")\n",
    "print(\"Today,\", name, \"is feeling\", mood, \"but still thinks about becoming an\", dream_job + \".\")\n"
   ]
  }
 ],
 "metadata": {
  "kernelspec": {
   "display_name": "venv",
   "language": "python",
   "name": "python3"
  },
  "language_info": {
   "codemirror_mode": {
    "name": "ipython",
    "version": 3
   },
   "file_extension": ".py",
   "mimetype": "text/x-python",
   "name": "python",
   "nbconvert_exporter": "python",
   "pygments_lexer": "ipython3",
   "version": "3.12.3"
  }
 },
 "nbformat": 4,
 "nbformat_minor": 5
}

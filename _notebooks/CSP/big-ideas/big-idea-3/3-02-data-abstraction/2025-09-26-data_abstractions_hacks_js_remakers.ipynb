{
 "cells": [
  {
   "cell_type": "code",
   "execution_count": null,
   "id": "e4102f0e",
   "metadata": {},
   "outputs": [],
   "source": [
    "---\n",
    "toc: true\n",
    "comments: false\n",
    "layout: post\n",
    "categories: [CSP Big Idea 3]\n",
    "title: 3.2 Data Abstractions JS Hack\n",
    "author: Jaynee Chauhan, Michelle Ji, Lucas Masterson\n",
    "description: Hack(s) for intro to data abstractions in JS.\n",
    "type: ccc\n",
    "permalink: /csp/big-idea-3/data-abstractions/p4/hacks-js\n",
    "---"
   ]
  },
  {
   "cell_type": "markdown",
   "id": "690b4172",
   "metadata": {},
   "source": [
    "## JS Lab: Library\n",
    "\n",
    "In this lab, similarly to the Python lab, you'll be working on a simple \"database\" for a library to understand CRUD operations in relation to representing redundant, similar data under one structure -- an abstraction.\n",
    "\n",
    "For JavaScript, you'll have to open the web console from Developer Tools (`ctrl + shift + p` -> `Developer: Toggle developer tools`)."
   ]
  },
  {
   "cell_type": "code",
   "execution_count": null,
   "id": "d7228dda",
   "metadata": {
    "vscode": {
     "languageId": "javascript"
    }
   },
   "outputs": [
    {
     "data": {
      "application/javascript": "let library = [\n    { title: \"1984\", author: \"George Orwell\", checkedOut: false },\n    { title: \"To Kill a Mockingbird\", author: \"Harper Lee\", checkedOut: true },\n    { title: \"The Great Gatsby\", author: \"F. Scott Fitzgerald\", checkedOut: false }\n];\n\n// Display all books\nfunction displayLibrary(lib) {\n    console.log(\"All books in the library:\");\n    lib.forEach((book, i) => {\n        console.log(`Index ${i}:`, book);\n    });\n}\n\n// Add a new book (takes parameters instead of prompt)\nfunction addBook(lib, title, author, checkedOut) {\n    const newBook = { title, author, checkedOut };\n    lib.push(newBook);\n    console.log(\"Book added:\", newBook);\n}\n\n// Find book by title\nfunction findBook(lib, searchTitle) {\n    const book = lib.find(b => b.title.toLowerCase() === searchTitle.toLowerCase());\n    if (book) {\n        console.log(\"Book found:\", book);\n    } else {\n        console.log(`No book found with title: ${searchTitle}`);\n    }\n}\n\n// Update book checkedOut status\nfunction updateBook(lib, searchTitle, newCheckedOut) {\n    const book = lib.find(b => b.title.toLowerCase() === searchTitle.toLowerCase());\n    if (book) {\n        book.checkedOut = newCheckedOut;\n        console.log(\"Book updated:\", book);\n    } else {\n        console.log(`No book found with title: ${searchTitle}`);\n    }\n}\n\n// Delete a book\nfunction deleteBook(lib, searchTitle) {\n    const index = lib.findIndex(b => b.title.toLowerCase() === searchTitle.toLowerCase());\n    if (index !== -1) {\n        const removedBook = lib.splice(index, 1)[0];\n        console.log(\"Book deleted:\", removedBook);\n    } else {\n        console.log(`No book found with title: ${searchTitle}`);\n    }\n}\n\n// Example usage with direct parameters\ndisplayLibrary(library);\naddBook(library, \"Brave New World\", \"Aldous Huxley\", false);\nfindBook(library, \"1984\");\nupdateBook(library, \"To Kill a Mockingbird\", false);\ndeleteBook(library, \"The Great Gatsby\");\ndisplayLibrary(library);\n",
      "text/plain": [
       "<IPython.core.display.Javascript object>"
      ]
     },
     "metadata": {},
     "output_type": "display_data"
    }
   ],
   "source": [
    "%%js \n",
    "let library = [\n",
    "    { title: \"1984\", author: \"George Orwell\", checkedOut: false },\n",
    "    { title: \"To Kill a Mockingbird\", author: \"Harper Lee\", checkedOut: true },\n",
    "    { title: \"The Great Gatsby\", author: \"F. Scott Fitzgerald\", checkedOut: false }\n",
    "];\n",
    "\n",
    "// Display all books\n",
    "function displayLibrary(lib) {\n",
    "    console.log(\"All books in the library:\");\n",
    "    lib.forEach((book, i) => {\n",
    "        console.log(`Index ${i}:`, book);\n",
    "    });\n",
    "}\n",
    "\n",
    "// Add a new book (takes parameters instead of prompt)\n",
    "function addBook(lib, title, author, checkedOut) {\n",
    "    const newBook = { title, author, checkedOut };\n",
    "    lib.push(newBook);\n",
    "    console.log(\"Book added:\", newBook);\n",
    "}\n",
    "\n",
    "// Find book by title\n",
    "function findBook(lib, searchTitle) {\n",
    "    const book = lib.find(b => b.title.toLowerCase() === searchTitle.toLowerCase());\n",
    "    if (book) {\n",
    "        console.log(\"Book found:\", book);\n",
    "    } else {\n",
    "        console.log(`No book found with title: ${searchTitle}`);\n",
    "    }\n",
    "}\n",
    "\n",
    "// Update book checkedOut status\n",
    "function updateBook(lib, searchTitle, newCheckedOut) {\n",
    "    const book = lib.find(b => b.title.toLowerCase() === searchTitle.toLowerCase());\n",
    "    if (book) {\n",
    "        book.checkedOut = newCheckedOut;\n",
    "        console.log(\"Book updated:\", book);\n",
    "    } else {\n",
    "        console.log(`No book found with title: ${searchTitle}`);\n",
    "    }\n",
    "}\n",
    "\n",
    "// Delete a book\n",
    "function deleteBook(lib, searchTitle) {\n",
    "    const index = lib.findIndex(b => b.title.toLowerCase() === searchTitle.toLowerCase());\n",
    "    if (index !== -1) {\n",
    "        const removedBook = lib.splice(index, 1)[0];\n",
    "        console.log(\"Book deleted:\", removedBook);\n",
    "    } else {\n",
    "        console.log(`No book found with title: ${searchTitle}`);\n",
    "    }\n",
    "}\n",
    "\n",
    "// Example usage with direct parameters\n",
    "displayLibrary(library);\n",
    "addBook(library, \"Brave New World\", \"Aldous Huxley\", false);\n",
    "findBook(library, \"1984\");\n",
    "updateBook(library, \"To Kill a Mockingbird\", false);\n",
    "deleteBook(library, \"The Great Gatsby\");\n",
    "displayLibrary(library);\n"
   ]
  }
 ],
 "metadata": {
  "kernelspec": {
   "display_name": "venv",
   "language": "python",
   "name": "python3"
  },
  "language_info": {
   "codemirror_mode": {
    "name": "ipython",
    "version": 3
   },
   "file_extension": ".py",
   "mimetype": "text/x-python",
   "name": "python",
   "nbconvert_exporter": "python",
   "pygments_lexer": "ipython3",
   "version": "3.12.3"
  }
 },
 "nbformat": 4,
 "nbformat_minor": 5
}
